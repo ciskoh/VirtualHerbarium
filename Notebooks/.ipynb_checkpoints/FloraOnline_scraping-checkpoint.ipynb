{
 "cells": [
  {
   "cell_type": "markdown",
   "metadata": {},
   "source": [
    "## scraping of flora online for plant names ##\n"
   ]
  },
  {
   "cell_type": "code",
   "execution_count": 1,
   "metadata": {},
   "outputs": [],
   "source": [
    "import wikipediaapi\n",
    "import pandas as pd\n",
    "import collections\n",
    "import re\n",
    "import requests\n",
    "from bs4 import BeautifulSoup"
   ]
  },
  {
   "cell_type": "code",
   "execution_count": 2,
   "metadata": {},
   "outputs": [],
   "source": [
    "# plant name will eventually be an input from csv file\n",
    "\n",
    "plant_name=\"Parthenium hysterophorus\""
   ]
  },
  {
   "cell_type": "code",
   "execution_count": 3,
   "metadata": {},
   "outputs": [],
   "source": [
    "# creating request for flora online\n",
    "\n",
    "# http://www.worldfloraonline.org/search?query=parthenium+hysterophorus&view=&limit=2000&start=0&sort=\n",
    "\n",
    "url_base = \"http://www.worldfloraonline.org\"\n",
    "\n"
   ]
  },
  {
   "cell_type": "code",
   "execution_count": 4,
   "metadata": {},
   "outputs": [],
   "source": [
    "def wfo_url_builder(plant_name):\n",
    "    \n",
    "    \"\"\" builds a link based on the plant name fit for world flora online\"\"\"\n",
    "    \n",
    "    url_base = \"http://www.worldfloraonline.org\"\n",
    "    clean_plant_name=plant_name.replace(\" \", \"+\")\n",
    "    return url_base + \"/search?query=\"+clean_plant_name.lower()\n",
    "    \n",
    "    \n",
    "def send_request(complete_url):\n",
    "    \"\"\" sends request and parses response data,\n",
    "        requires beautifulSoup and complete url made with wof_url_builder \n",
    "        returns 3 items, the 3rd is the content    \"\"\"\n",
    "\n",
    "    response = requests.get(complete_url) # TODO: add timeout for the request\n",
    "    soup = BeautifulSoup(response.content, \"html.parser\")\n",
    "    return response.url, response.status_code, soup "
   ]
  },
  {
   "cell_type": "code",
   "execution_count": 5,
   "metadata": {},
   "outputs": [],
   "source": [
    "# function to search for good links from the list of plants usese status == \"Accepted Name\" and plant name to select good link\n",
    "\n",
    "def get_good_link_wfo(soup):\n",
    "    \"\"\"function to search for good links from the list of plants usese status == \"Accepted Name\" \n",
    "    and plant name to select good link\"\"\"\n",
    "    all_plants = soup.findAll(\"td\")\n",
    "\n",
    "    for plant in all_plants:\n",
    "\n",
    "        try:\n",
    "            title = plant.find(\"a\", class_=\"result\").get(\"title\")\n",
    "            status = plant.find(\"span\").text\n",
    "            link = url_base + plant.find(\"a\", class_=\"result\").get(\"href\")\n",
    "        except AttributeError:\n",
    "            continue\n",
    "\n",
    "        if (status == \"Accepted Name\") & (title == plant_name):\n",
    "            break\n",
    "    return link\n"
   ]
  },
  {
   "cell_type": "code",
   "execution_count": 6,
   "metadata": {},
   "outputs": [],
   "source": [
    "def get_text_from_section(soup, lv1_tag, kwargs) :\n",
    "    \"\"\"extract text from specified section. returns list of paragraphs\n",
    "    params: \n",
    "    - soup : content of request\n",
    "    -lv1_tag : HTML tag fror area with text\n",
    "    -kwargs : dictionary with attribute name and value to use\n",
    "    - kwargs:\"\"\"\n",
    "    gen = soup.find(lv1_tag, kwargs)\n",
    "    text_list=[]\n",
    "    for n,a in enumerate(gen):\n",
    "        try:\n",
    "            text_list.append(a.p.text)   \n",
    "\n",
    "        except AttributeError:\n",
    "            continue\n",
    "\n",
    "    return text_list    "
   ]
  },
  {
   "cell_type": "markdown",
   "metadata": {},
   "source": [
    "### Settings"
   ]
  },
  {
   "cell_type": "code",
   "execution_count": 7,
   "metadata": {},
   "outputs": [],
   "source": [
    "# plant name will eventually be an input from csv file\n",
    "\n",
    "plant_name=\"Parthenium hysterophorus\"\n",
    "# creating request for flora online\n",
    "\n",
    "# http://www.worldfloraonline.org/search?query=parthenium+hysterophorus&view=&limit=2000&start=0&sort=\n",
    "\n",
    "url_base = \"http://www.worldfloraonline.org\"\n",
    "\n",
    "sections=[\"general\", \"morphology\", \"habit\", \"habitat\"]\n",
    "\n",
    "lv1_tag = \"div\"\n",
    "lv1_atr_tag = 'id'\n"
   ]
  },
  {
   "cell_type": "markdown",
   "metadata": {},
   "source": [
    "### Main function to scrape flora online"
   ]
  },
  {
   "cell_type": "code",
   "execution_count": 8,
   "metadata": {},
   "outputs": [],
   "source": [
    "# running functions\n",
    "def main_flora_online(plant_name, url_base, sections, lv1_tag, lv1_atr_tag):\n",
    "    complete_url = wfo_url_builder(plant_name)\n",
    "\n",
    "    url, status, soup = send_request(complete_url)\n",
    "\n",
    "    print(\"main page : \", url, status)\n",
    "\n",
    "    link = get_good_link_wfo(soup)\n",
    "\n",
    "    url2, status2, soup2 = send_request(link)\n",
    "    print(\"plant page :\", url2, status2)  # TODO add failsafe in case link doesn't work\n",
    "\n",
    "    # get text for specified section\n",
    "    # def get_sections(soup, sections):\n",
    "    text_dic={}\n",
    "    for i in sections:\n",
    "        lv1_atr_value = i\n",
    "        text_dic[i] = get_text_from_section(soup2, lv1_tag, { lv1_atr_tag: lv1_atr_value})\n",
    "    return text_dic\n",
    "\n"
   ]
  },
  {
   "cell_type": "markdown",
   "metadata": {},
   "source": [
    "# Create a summary  from scraped text\n",
    "\n",
    "1. download and install bert summariser or similar\n",
    "1. Select text to send\n",
    "1. Get summary"
   ]
  },
  {
   "cell_type": "markdown",
   "metadata": {},
   "source": [
    "###  Notes\n",
    "possible summarizers:\n",
    "- https://pypi.org/project/bert-extractive-summarizer/\n",
    "- https://smrzr.io/\n",
    "--\n"
   ]
  },
  {
   "cell_type": "code",
   "execution_count": 9,
   "metadata": {},
   "outputs": [
    {
     "name": "stdout",
     "output_type": "stream",
     "text": [
      "main page :  http://www.worldfloraonline.org/search?query=parthenium+hysterophorus 200\n",
      "plant page : http://www.worldfloraonline.org/taxon/wfo-0000065156;jsessionid=B5CEF431784B59D209F385F39D2FAB19 200\n"
     ]
    },
    {
     "data": {
      "text/plain": [
       "{'general': ['Herbs, annual, 30-120 cm tall. Leaf blade ovate to elliptic, 3-18 × 1-5(-9) cm, pinnately (1 or)2-lobed, ultimate lobes lanceolate to linear, 3-50 × 2-15 mm, both surfaces sparsely to densely scaberulose and gland-dotted. Synflorescences of open panicles. Capitula obscurely radiate; peduncles 1-8(-15+) mm; outer phyllaries 5(or 6), elliptic-lanceolate, 2-4 mm, inner 5(or 6) ovate to orbicular, 2.5-4 mm. Female florets 5(or 6); corolla limbs reniform or orbicular to oblong, 0.3-1 mm. Disk florets 12-30(-60). Achenes obovoid, 1.5-2(-3.5) mm; pappuslike enations erect, deltate to ovate, 0.5-1 mm. Fl. Apr-Aug. 2n = 34.',\n",
       "  'Annuals, (10–)30–120+ cm. Leaf blades ovate to elliptic, 30–180+ × 10–50(–90+) mm, (1–)2-pinnately lobed (ultimate lobes lanceolate to linear, 3–50 × 2–15 mm), faces sparsely to densely scabrellous and gland-dotted (seldom with additional erect hairs 1–2 mm). Heads obscurely radiate, borne in open, paniculiform arrays. Peduncles 1–8(–15+) mm. Phyllaries: outer 5(–6), lance-elliptic, 2–4 mm, inner 5(–6) ovate to ± orbiculate, 2.5–4 mm. Pistillate florets 5(–6); corolla laminae reniform or orbiculate to oblong, 0.3–1 mm. Disc florets 12–30[–60]. Cypselae obovoid, 1.5–2(–3.5) mm; pappus-like enations erect, deltate to ovate, 0.5–1 mm (sometimes a third, subulate spur near apex adaxially). 2n = 34.',\n",
       "  'Parthenium hysterophorus L., Sp. Pl. 2: 988. 1753.',\n",
       "  'Annual herb to -50 cm tall; stems erect, much branched, to 4 mm diam., strigillose with hairs 0.3 mm long. Leaves lanceolate above to pinnately dissected below, 2.5-8 cm long, 0.2-4.5 cm wide, acute, the base attenuate, both surfaces strigillose with hairs 0.2-0.4 mm long, the margin entire or deeply lobed. Inflorescence paniculiform, of numerous small heads; peduncles 5-8 mm long. Heads radiate, 2.5-3 mm tall; outer involucre cupulate, 4-5 mm diam., the bracts 5, separate, narrowly ovate, 1.6-2.2 mm long, 1.5-1.8 mm wide, acute, abaxial surface strigose with hairs 0.2 mm long, the margin herbaceous, the inner bracts 5, uniseriate, each attached abaxially to the base of a ray floret, two disc paleas and two included sterile disc florets also attached to the base of the ray floret on the adaxial side (the whole unit termed an \"achene complex\" (Fig. 56C), each of the two disc florets and enclosing paleas is additionally attached from the base to near the apex of the achene by a thin rib); paleas elliptic, 1 mm long, 0.3 mm wide, apically fimbriate; ray florets 5, the ligules light yellow, ovate, 0.6 mm long, 0.5 mm wide, emarginate; disc florets perfect, 25-50, the corollas light yellow, narrowly funnelform, 0.3 mm diam., the throat 1 mm long, the ovary sterile, filiform, 0.7 mm long. Achenes flattened, 2 mm long, 1.2 mm diam.; pappus of two broad awnis 0.5 mm long. Chromosome number n= 17.',\n",
       "  '\"Annual to 1 m, usually much branched, ± hairy, and often glandular above; lvs pinnatifid or usually bipinnatifid, to 2 × 1 dm; heads small, numerous in an often leafy infl, the disk 3–5 mm wide; achenes obovate, black, 2–2.5 mm; 2n=34. A weed of waste places; trop. Amer., n. to se. U.S. and occasionally to Mass., Mich., and Kans. July–Oct.\"'],\n",
       " 'morphology': ['Leaves elliptic to ovate, bipinnately lobed, 6–30 cm long, 3–10 cm wide, lobes 1.5–4 mm wide and obtuse, puberulous on both surfaces.',\n",
       "  'Annual herb to 60 cm high; stems puberulous or scabridulous.',\n",
       "  'Ray florets 5, whitish, almost round, 0.5–1 mm; disc florets yellowish, narrowly funnel-shaped, ± 2.7 mm long.',\n",
       "  'Capitula hemispherical, in lax panicles; involucre 2–3 mm long, the phyllaries pubescent.',\n",
       "  'Fig. 177 (page 816).',\n",
       "  'Achenes black, obovoid, ± 2 mm long, with 2 recurved pappus awns.',\n",
       "  'Annual herb to 60 cm high; stems puberulous or scabridulous. Leaves elliptic to ovate, bipinnately lobed, 6-30 cm long, 3-10 cm wide, lobes 1.5-4.0 mm wide and obtuse, puberulous on both surfaces. Capitula hemispherical, in lax panicles; involucre 2-3 mm long, the phyllaries pubescent. Ray florets 5, whitish, almost round, 0.5-1.0 mm; disc florets yellowish, narrowly funnel-shaped, ±2.7 mm long. Achenes black, obovoid, ±2 mm long, with 2 recurved pappus awns.',\n",
       "  'Annual herb, up to 0.6 m high. Leaves deeply bipinnatisect, puberulous, decreasing in size upwards. Heads 3 mm in diameter, on slender peduncles, in lax, many-headed panicle. Flowers with (small) white rays and yellowish disc.'],\n",
       " 'habit': ['herb', 'Arbusto'],\n",
       " 'habitat': ['Weed of coffee plantations; ± 1600 m.',\n",
       "  'Terrícola',\n",
       "  'Weed of cultivation and in disturbed places.']}"
      ]
     },
     "execution_count": 9,
     "metadata": {},
     "output_type": "execute_result"
    }
   ],
   "source": [
    "Text_list = main_flora_online(plant_name, url_base, sections, lv1_tag, lv1_atr_tag)"
   ]
  },
  {
   "cell_type": "code",
   "execution_count": 10,
   "metadata": {},
   "outputs": [
    {
     "name": "stderr",
     "output_type": "stream",
     "text": [
      "Neither PyTorch nor TensorFlow >= 2.0 have been found. Models won't be available and only tokenizers, configuration and file/data utilities can be used.\n"
     ]
    },
    {
     "ename": "ModuleNotFoundError",
     "evalue": "No module named 'torch'",
     "output_type": "error",
     "traceback": [
      "\u001b[0;31m---------------------------------------------------------------------------\u001b[0m",
      "\u001b[0;31mModuleNotFoundError\u001b[0m                       Traceback (most recent call last)",
      "\u001b[0;32m<ipython-input-10-42334fbeedaf>\u001b[0m in \u001b[0;36m<module>\u001b[0;34m\u001b[0m\n\u001b[0;32m----> 1\u001b[0;31m \u001b[0;32mfrom\u001b[0m \u001b[0msummarizer\u001b[0m \u001b[0;32mimport\u001b[0m \u001b[0mSummarizer\u001b[0m\u001b[0;34m\u001b[0m\u001b[0;34m\u001b[0m\u001b[0m\n\u001b[0m\u001b[1;32m      2\u001b[0m \u001b[0;34m\u001b[0m\u001b[0m\n\u001b[1;32m      3\u001b[0m \u001b[0mbody\u001b[0m \u001b[0;34m=\u001b[0m \u001b[0;34m'Text body that you want to summarize with BERT'\u001b[0m\u001b[0;34m\u001b[0m\u001b[0;34m\u001b[0m\u001b[0m\n\u001b[1;32m      4\u001b[0m \u001b[0mbody2\u001b[0m \u001b[0;34m=\u001b[0m \u001b[0;34m'Something else you want to summarize with BERT'\u001b[0m\u001b[0;34m\u001b[0m\u001b[0;34m\u001b[0m\u001b[0m\n\u001b[1;32m      5\u001b[0m \u001b[0mmodel\u001b[0m \u001b[0;34m=\u001b[0m \u001b[0mSummarizer\u001b[0m\u001b[0;34m(\u001b[0m\u001b[0;34m)\u001b[0m\u001b[0;34m\u001b[0m\u001b[0;34m\u001b[0m\u001b[0m\n",
      "\u001b[0;32m~/anaconda3/envs/herbarium/lib/python3.9/site-packages/summarizer/__init__.py\u001b[0m in \u001b[0;36m<module>\u001b[0;34m\u001b[0m\n\u001b[0;32m----> 1\u001b[0;31m \u001b[0;32mfrom\u001b[0m \u001b[0msummarizer\u001b[0m\u001b[0;34m.\u001b[0m\u001b[0mmodel_processors\u001b[0m \u001b[0;32mimport\u001b[0m \u001b[0mSummarizer\u001b[0m\u001b[0;34m,\u001b[0m \u001b[0mTransformerSummarizer\u001b[0m\u001b[0;34m\u001b[0m\u001b[0;34m\u001b[0m\u001b[0m\n\u001b[0m",
      "\u001b[0;32m~/anaconda3/envs/herbarium/lib/python3.9/site-packages/summarizer/model_processors.py\u001b[0m in \u001b[0;36m<module>\u001b[0;34m\u001b[0m\n\u001b[1;32m      4\u001b[0m \u001b[0;32mfrom\u001b[0m \u001b[0mtransformers\u001b[0m \u001b[0;32mimport\u001b[0m \u001b[0;34m*\u001b[0m\u001b[0;34m\u001b[0m\u001b[0;34m\u001b[0m\u001b[0m\n\u001b[1;32m      5\u001b[0m \u001b[0;34m\u001b[0m\u001b[0m\n\u001b[0;32m----> 6\u001b[0;31m \u001b[0;32mfrom\u001b[0m \u001b[0msummarizer\u001b[0m\u001b[0;34m.\u001b[0m\u001b[0mbert_parent\u001b[0m \u001b[0;32mimport\u001b[0m \u001b[0mBertParent\u001b[0m\u001b[0;34m\u001b[0m\u001b[0;34m\u001b[0m\u001b[0m\n\u001b[0m\u001b[1;32m      7\u001b[0m \u001b[0;32mfrom\u001b[0m \u001b[0msummarizer\u001b[0m\u001b[0;34m.\u001b[0m\u001b[0mcluster_features\u001b[0m \u001b[0;32mimport\u001b[0m \u001b[0mClusterFeatures\u001b[0m\u001b[0;34m\u001b[0m\u001b[0;34m\u001b[0m\u001b[0m\n\u001b[1;32m      8\u001b[0m \u001b[0;32mfrom\u001b[0m \u001b[0msummarizer\u001b[0m\u001b[0;34m.\u001b[0m\u001b[0msentence_handler\u001b[0m \u001b[0;32mimport\u001b[0m \u001b[0mSentenceHandler\u001b[0m\u001b[0;34m\u001b[0m\u001b[0;34m\u001b[0m\u001b[0m\n",
      "\u001b[0;32m~/anaconda3/envs/herbarium/lib/python3.9/site-packages/summarizer/bert_parent.py\u001b[0m in \u001b[0;36m<module>\u001b[0;34m\u001b[0m\n\u001b[1;32m      2\u001b[0m \u001b[0;34m\u001b[0m\u001b[0m\n\u001b[1;32m      3\u001b[0m \u001b[0;32mimport\u001b[0m \u001b[0mnumpy\u001b[0m \u001b[0;32mas\u001b[0m \u001b[0mnp\u001b[0m\u001b[0;34m\u001b[0m\u001b[0;34m\u001b[0m\u001b[0m\n\u001b[0;32m----> 4\u001b[0;31m \u001b[0;32mimport\u001b[0m \u001b[0mtorch\u001b[0m\u001b[0;34m\u001b[0m\u001b[0;34m\u001b[0m\u001b[0m\n\u001b[0m\u001b[1;32m      5\u001b[0m \u001b[0;32mfrom\u001b[0m \u001b[0mnumpy\u001b[0m \u001b[0;32mimport\u001b[0m \u001b[0mndarray\u001b[0m\u001b[0;34m\u001b[0m\u001b[0;34m\u001b[0m\u001b[0m\n\u001b[1;32m      6\u001b[0m \u001b[0;32mfrom\u001b[0m \u001b[0mtransformers\u001b[0m \u001b[0;32mimport\u001b[0m \u001b[0;34m*\u001b[0m\u001b[0;34m\u001b[0m\u001b[0;34m\u001b[0m\u001b[0m\n",
      "\u001b[0;31mModuleNotFoundError\u001b[0m: No module named 'torch'"
     ]
    }
   ],
   "source": [
    "\n",
    "from summarizer import Summarizer\n",
    "\n",
    "body = 'Text body that you want to summarize with BERT'\n",
    "body2 = 'Something else you want to summarize with BERT'\n",
    "model = Summarizer()\n",
    "model(body)\n",
    "model(body2)\n",
    "\n",
    "\n"
   ]
  },
  {
   "cell_type": "code",
   "execution_count": null,
   "metadata": {},
   "outputs": [],
   "source": []
  }
 ],
 "metadata": {
  "kernelspec": {
   "display_name": "herbarium",
   "language": "python",
   "name": "herbarium"
  },
  "language_info": {
   "codemirror_mode": {
    "name": "ipython",
    "version": 3
   },
   "file_extension": ".py",
   "mimetype": "text/x-python",
   "name": "python",
   "nbconvert_exporter": "python",
   "pygments_lexer": "ipython3",
   "version": "3.9.0"
  }
 },
 "nbformat": 4,
 "nbformat_minor": 4
}
