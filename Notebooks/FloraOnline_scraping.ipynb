{
 "cells": [
  {
   "cell_type": "markdown",
   "metadata": {},
   "source": [
    "## scraping of flora online for plant names ##\n"
   ]
  },
  {
   "cell_type": "code",
   "execution_count": 1,
   "metadata": {},
   "outputs": [],
   "source": [
    "import wikipediaapi\n",
    "import pandas as pd\n",
    "import collections\n",
    "import re\n",
    "import requests\n",
    "from bs4 import BeautifulSoup"
   ]
  },
  {
   "cell_type": "code",
   "execution_count": 2,
   "metadata": {},
   "outputs": [],
   "source": [
    "# plant name will eventually be an input from csv file\n",
    "\n",
    "plant_name=\"Parthenium hysterophorus\""
   ]
  },
  {
   "cell_type": "code",
   "execution_count": 3,
   "metadata": {},
   "outputs": [],
   "source": [
    "# creating request for flora online\n",
    "\n",
    "# http://www.worldfloraonline.org/search?query=parthenium+hysterophorus&view=&limit=2000&start=0&sort=\n",
    "\n",
    "url_base = \"http://www.worldfloraonline.org\"\n",
    "\n"
   ]
  },
  {
   "cell_type": "code",
   "execution_count": 4,
   "metadata": {},
   "outputs": [],
   "source": [
    "def wfo_url_builder(plant_name):\n",
    "    \n",
    "    \"\"\" builds a link based on the plant name fit for world flora online\"\"\"\n",
    "    \n",
    "    url_base = \"http://www.worldfloraonline.org\"\n",
    "    clean_plant_name=plant_name.replace(\" \", \"+\")\n",
    "    return url_base + \"/search?query=\"+clean_plant_name.lower()\n",
    "    \n",
    "    \n",
    "def send_request(complete_url):\n",
    "    \"\"\" sends request and parses response data,\n",
    "        requires beautifulSoup and complete url made with wof_url_builder \n",
    "        returns 3 items, the 3rd is the content    \"\"\"\n",
    "\n",
    "    response = requests.get(complete_url) # TODO: add timeout for the request\n",
    "    soup = BeautifulSoup(response.content, \"html.parser\")\n",
    "    return response.url, response.status_code, soup "
   ]
  },
  {
   "cell_type": "code",
   "execution_count": 5,
   "metadata": {},
   "outputs": [],
   "source": [
    "# function to search for good links from the list of plants usese status == \"Accepted Name\" and plant name to select good link\n",
    "\n",
    "def get_good_link_wfo(soup):\n",
    "    \"\"\"function to search for good links from the list of plants usese status == \"Accepted Name\" \n",
    "    and plant name to select good link\"\"\"\n",
    "    all_plants = soup.findAll(\"td\")\n",
    "\n",
    "    for plant in all_plants:\n",
    "\n",
    "        try:\n",
    "            title = plant.find(\"a\", class_=\"result\").get(\"title\")\n",
    "            status = plant.find(\"span\").text\n",
    "            link = url_base + plant.find(\"a\", class_=\"result\").get(\"href\")\n",
    "        except AttributeError:\n",
    "            continue\n",
    "\n",
    "        if (status == \"Accepted Name\") & (title == plant_name):\n",
    "            break\n",
    "    return link\n"
   ]
  },
  {
   "cell_type": "code",
   "execution_count": 6,
   "metadata": {},
   "outputs": [],
   "source": [
    "def get_text_from_section(soup, lv1_tag, kwargs) :\n",
    "    \"\"\"extract text from specified section. returns list of paragraphs\n",
    "    params: \n",
    "    - soup : content of request\n",
    "    -lv1_tag : HTML tag fror area with text\n",
    "    -kwargs : dictionary with attribute name and value to use\n",
    "    - kwargs:\"\"\"\n",
    "    gen = soup.find(lv1_tag, kwargs)\n",
    "    text_list=[]\n",
    "    for n,a in enumerate(gen):\n",
    "        try:\n",
    "            text_list.append(a.p.text)   \n",
    "\n",
    "        except AttributeError:\n",
    "            continue\n",
    "\n",
    "    return text_list    "
   ]
  },
  {
   "cell_type": "markdown",
   "metadata": {},
   "source": [
    "### Settings"
   ]
  },
  {
   "cell_type": "code",
   "execution_count": 7,
   "metadata": {},
   "outputs": [],
   "source": [
    "# plant name will eventually be an input from csv file\n",
    "\n",
    "plant_name=\"Parthenium hysterophorus\"\n",
    "# creating request for flora online\n",
    "\n",
    "# http://www.worldfloraonline.org/search?query=parthenium+hysterophorus&view=&limit=2000&start=0&sort=\n",
    "\n",
    "url_base = \"http://www.worldfloraonline.org\"\n",
    "\n",
    "sections=[\"general\", \"morphology\", \"habit\", \"habitat\"]\n",
    "\n",
    "lv1_tag = \"div\"\n",
    "lv1_atr_tag = 'id'\n"
   ]
  },
  {
   "cell_type": "markdown",
   "metadata": {},
   "source": [
    "### Main function to scrape flora online"
   ]
  },
  {
   "cell_type": "code",
   "execution_count": 8,
   "metadata": {},
   "outputs": [],
   "source": [
    "# running functions\n",
    "def main_flora_online(plant_name, url_base, sections, lv1_tag, lv1_atr_tag):\n",
    "    complete_url = wfo_url_builder(plant_name)\n",
    "\n",
    "    url, status, soup = send_request(complete_url)\n",
    "\n",
    "    print(\"main page : \", url, status)\n",
    "\n",
    "    link = get_good_link_wfo(soup)\n",
    "\n",
    "    url2, status2, soup2 = send_request(link)\n",
    "    print(\"plant page :\", url2, status2)  # TODO add failsafe in case link doesn't work\n",
    "\n",
    "    # get text for specified section\n",
    "    # def get_sections(soup, sections):\n",
    "    text_dic={}\n",
    "    for i in sections:\n",
    "        lv1_atr_value = i\n",
    "        text_dic[i] = get_text_from_section(soup2, lv1_tag, { lv1_atr_tag: lv1_atr_value})\n",
    "    return text_dic\n",
    "\n"
   ]
  },
  {
   "cell_type": "markdown",
   "metadata": {},
   "source": [
    "# Create a summary  from scraped text\n",
    "\n",
    "1. download and install bert summariser or similar\n",
    "1. Select text to send\n",
    "1. Get summary"
   ]
  },
  {
   "cell_type": "markdown",
   "metadata": {},
   "source": [
    "###  Notes\n",
    "possible summarizers:\n",
    "- https://pypi.org/project/bert-extractive-summarizer/\n",
    "- https://smrzr.io/\n",
    "--\n"
   ]
  },
  {
   "cell_type": "code",
   "execution_count": 9,
   "metadata": {},
   "outputs": [
    {
     "name": "stdout",
     "output_type": "stream",
     "text": [
      "main page :  http://www.worldfloraonline.org/search?query=parthenium+hysterophorus 200\n",
      "plant page : http://www.worldfloraonline.org/taxon/wfo-0000065156;jsessionid=555BDFCA5AC35C6C605AADF418C54332 200\n"
     ]
    }
   ],
   "source": [
    "Text_list = main_flora_online(plant_name, url_base, sections, lv1_tag, lv1_atr_tag)"
   ]
  },
  {
   "cell_type": "code",
   "execution_count": 10,
   "metadata": {},
   "outputs": [
    {
     "ename": "ModuleNotFoundError",
     "evalue": "No module named 'summarizer'",
     "output_type": "error",
     "traceback": [
      "\u001b[0;31m---------------------------------------------------------------------------\u001b[0m",
      "\u001b[0;31mModuleNotFoundError\u001b[0m                       Traceback (most recent call last)",
      "\u001b[0;32m<ipython-input-10-42334fbeedaf>\u001b[0m in \u001b[0;36m<module>\u001b[0;34m\u001b[0m\n\u001b[0;32m----> 1\u001b[0;31m \u001b[0;32mfrom\u001b[0m \u001b[0msummarizer\u001b[0m \u001b[0;32mimport\u001b[0m \u001b[0mSummarizer\u001b[0m\u001b[0;34m\u001b[0m\u001b[0;34m\u001b[0m\u001b[0m\n\u001b[0m\u001b[1;32m      2\u001b[0m \u001b[0;34m\u001b[0m\u001b[0m\n\u001b[1;32m      3\u001b[0m \u001b[0mbody\u001b[0m \u001b[0;34m=\u001b[0m \u001b[0;34m'Text body that you want to summarize with BERT'\u001b[0m\u001b[0;34m\u001b[0m\u001b[0;34m\u001b[0m\u001b[0m\n\u001b[1;32m      4\u001b[0m \u001b[0mbody2\u001b[0m \u001b[0;34m=\u001b[0m \u001b[0;34m'Something else you want to summarize with BERT'\u001b[0m\u001b[0;34m\u001b[0m\u001b[0;34m\u001b[0m\u001b[0m\n\u001b[1;32m      5\u001b[0m \u001b[0mmodel\u001b[0m \u001b[0;34m=\u001b[0m \u001b[0mSummarizer\u001b[0m\u001b[0;34m(\u001b[0m\u001b[0;34m)\u001b[0m\u001b[0;34m\u001b[0m\u001b[0;34m\u001b[0m\u001b[0m\n",
      "\u001b[0;31mModuleNotFoundError\u001b[0m: No module named 'summarizer'"
     ]
    }
   ],
   "source": [
    "from summarizer import Summarizer\n",
    "\n",
    "body = 'Text body that you want to summarize with BERT'\n",
    "body2 = 'Something else you want to summarize with BERT'\n",
    "model = Summarizer()\n",
    "model(body)\n",
    "model(body2)"
   ]
  },
  {
   "cell_type": "code",
   "execution_count": null,
   "metadata": {},
   "outputs": [],
   "source": []
  }
 ],
 "metadata": {
  "kernelspec": {
   "display_name": "Python 3",
   "language": "python",
   "name": "python3"
  },
  "language_info": {
   "codemirror_mode": {
    "name": "ipython",
    "version": 3
   },
   "file_extension": ".py",
   "mimetype": "text/x-python",
   "name": "python",
   "nbconvert_exporter": "python",
   "pygments_lexer": "ipython3",
   "version": "3.7.3"
  }
 },
 "nbformat": 4,
 "nbformat_minor": 4
}
